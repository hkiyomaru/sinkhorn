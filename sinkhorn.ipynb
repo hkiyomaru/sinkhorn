{
 "cells": [
  {
   "cell_type": "code",
   "execution_count": 1,
   "metadata": {},
   "outputs": [],
   "source": [
    "import numpy as np"
   ]
  },
  {
   "cell_type": "code",
   "execution_count": 2,
   "metadata": {},
   "outputs": [],
   "source": [
    "# Discrete measures\n",
    "a = np.array([.5, .5])  # (n,)\n",
    "b = np.array([.4, .3, .3])  # (m,)\n",
    "\n",
    "n = a.shape[0]\n",
    "m = b.shape[0]"
   ]
  },
  {
   "cell_type": "code",
   "execution_count": 3,
   "metadata": {},
   "outputs": [],
   "source": [
    "# Transportation costs\n",
    "M_xy = np.array([[0., 1., 2.], [1., 0., 1.]])  # (n, m)"
   ]
  },
  {
   "cell_type": "code",
   "execution_count": 4,
   "metadata": {},
   "outputs": [],
   "source": [
    "# Hyper parameters\n",
    "gamma = 1."
   ]
  },
  {
   "cell_type": "code",
   "execution_count": 5,
   "metadata": {},
   "outputs": [],
   "source": [
    "# Sinkhorn's algorithm\n",
    "K = np.exp(-M_xy / gamma)  # (n, m), not optimized\n",
    "u = np.random.random(n)  # (n,)\n",
    "v = np.random.random(m)  # (m,)\n",
    "\n",
    "for _ in range(10):\n",
    "    u = a / np.matmul(K, v)  # (n,)\n",
    "    v = b / np.matmul(K.T, u)  # (m,) = (m,)\n",
    "P_gamma = np.matmul(np.matmul(np.diag(u), K), np.diag(v))  # (n, m)\n",
    "W = np.sum(P_gamma * M_xy)  # (,)"
   ]
  },
  {
   "cell_type": "code",
   "execution_count": 6,
   "metadata": {},
   "outputs": [
    {
     "name": "stdout",
     "output_type": "stream",
     "text": [
      "*** Entropic regularized OT ***\n",
      "[[0.30973228 0.09513388 0.09513388]\n",
      " [0.09026772 0.20486612 0.20486612]]\n",
      "\n",
      "*** Wasserstein distance ***\n",
      "0.5805354719411625\n"
     ]
    }
   ],
   "source": [
    "print('*** Entropic regularized OT ***')\n",
    "print(P_gamma)\n",
    "\n",
    "print('\\n*** Wasserstein distance ***')\n",
    "print(W)"
   ]
  },
  {
   "cell_type": "code",
   "execution_count": 7,
   "metadata": {},
   "outputs": [
    {
     "name": "stdout",
     "output_type": "stream",
     "text": [
      "*** Entropic regularized OT (calculated by POT) ***\n",
      "[[0.30973227 0.09513387 0.09513387]\n",
      " [0.09026773 0.20486613 0.20486613]]\n",
      "\n",
      "*** Wasserstein distance (calculated by POT) ***\n",
      "[0.58053546]\n"
     ]
    }
   ],
   "source": [
    "# Calculate P_gamma & W using POT (https://pythonot.github.io/)\n",
    "import ot\n",
    "\n",
    "P_gamma_ = ot.sinkhorn(a, b, M_xy, 1.)\n",
    "W_ = ot.sinkhorn2(a, b, M_xy, 1.)\n",
    "\n",
    "print('*** Entropic regularized OT (calculated by POT) ***')\n",
    "print(P_gamma_)\n",
    "\n",
    "print('\\n*** Wasserstein distance (calculated by POT) ***')\n",
    "print(W_)"
   ]
  }
 ],
 "metadata": {
  "kernelspec": {
   "display_name": "Python 3",
   "language": "python",
   "name": "python3"
  },
  "language_info": {
   "codemirror_mode": {
    "name": "ipython",
    "version": 3
   },
   "file_extension": ".py",
   "mimetype": "text/x-python",
   "name": "python",
   "nbconvert_exporter": "python",
   "pygments_lexer": "ipython3",
   "version": "3.7.5"
  }
 },
 "nbformat": 4,
 "nbformat_minor": 4
}
